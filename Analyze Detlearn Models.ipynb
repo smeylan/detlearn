{
 "cells": [
  {
   "cell_type": "code",
   "execution_count": 2,
   "metadata": {
    "collapsed": false
   },
   "outputs": [
    {
     "name": "stderr",
     "output_type": "stream",
     "text": [
      "Loading required package: coda\n",
      "Linked to JAGS 3.4.0\n",
      "Loaded modules: basemod,bugs\n"
     ]
    }
   ],
   "source": [
    "source('detlearn_analysis.R')\n",
    "library('rjags')\n",
    "library('coda')\n",
    "library('parallel')\n",
    "library('plyr')\n",
    "library('ggplot2')\n",
    "library('gridExtra')"
   ]
  },
  {
   "cell_type": "code",
   "execution_count": 2,
   "metadata": {
    "collapsed": true
   },
   "outputs": [],
   "source": [
    "parallelize = T #set to false to debug\n",
    "completedModelPath = 'mcmc/results/'"
   ]
  },
  {
   "cell_type": "markdown",
   "metadata": {},
   "source": [
    "Build the directory structure..."
   ]
  },
  {
   "cell_type": "code",
   "execution_count": 3,
   "metadata": {
    "collapsed": false
   },
   "outputs": [],
   "source": [
    "paths = buildDirectoryStructure('results/')\n",
    "paths['completedModelPath'] = completedModelPath"
   ]
  },
  {
   "cell_type": "markdown",
   "metadata": {},
   "source": [
    "Check for model completion..."
   ]
  },
  {
   "cell_type": "code",
   "execution_count": 4,
   "metadata": {
    "collapsed": false
   },
   "outputs": [],
   "source": [
    "modelsComplete = checkForModelCompletion(completedModelPath, outfile=NULL)\n",
    "if (nrow(subset(modelsComplete, !changePresence)) > 0){stop(p('One or more models is not availabe in',completedModelPath))}"
   ]
  },
  {
   "cell_type": "markdown",
   "metadata": {},
   "source": [
    "# Extract Model Results"
   ]
  },
  {
   "cell_type": "markdown",
   "metadata": {},
   "source": [
    "### Split Half Models"
   ]
  },
  {
   "cell_type": "code",
   "execution_count": 5,
   "metadata": {
    "collapsed": true
   },
   "outputs": [],
   "source": [
    "lcFileList = paste(completedModelPath, list.files(completedModelPath)[grep('linkingChange_Model.*\\\\.RData',list.files(completedModelPath))], sep='')\n",
    "lcInputs.df = data.frame(file = lcFileList, paths['tablePath'], stringsAsFactors=F)\n",
    "lcInputs = split(lcInputs.df, lcInputs.df$file)"
   ]
  },
  {
   "cell_type": "code",
   "execution_count": 6,
   "metadata": {
    "collapsed": false
   },
   "outputs": [],
   "source": [
    "linkingChangeWindowAnalyses = mclapply2(lcInputs, function(lcInput){\n",
    "    processModelReturnData(lcInput$file, overwrite=T, lcInput$tablePath)\n",
    "}, parallelize=F)"
   ]
  },
  {
   "cell_type": "markdown",
   "metadata": {},
   "source": [
    "### Sliding Window Models"
   ]
  },
  {
   "cell_type": "code",
   "execution_count": 7,
   "metadata": {
    "collapsed": true
   },
   "outputs": [],
   "source": [
    "swFileList = paste(completedModelPath, list.files(completedModelPath)[grep('linking_Model.*\\\\.RData',list.files(completedModelPath))], sep='')\n",
    "swInputs.df = data.frame(file = swFileList, paths['tablePath'], stringsAsFactors=F)\n",
    "swInputs = split(swInputs.df, swInputs.df$file)"
   ]
  },
  {
   "cell_type": "code",
   "execution_count": 8,
   "metadata": {
    "collapsed": true
   },
   "outputs": [],
   "source": [
    "slidingWindowAnalyses = mclapply2(swInputs, function(swInput){\n",
    "    processModelReturnData(swInput$file, overwrite=T, swInput$tablePath)\n",
    "})"
   ]
  },
  {
   "cell_type": "markdown",
   "metadata": {},
   "source": [
    "# Convergence Statistics"
   ]
  },
  {
   "cell_type": "code",
   "execution_count": null,
   "metadata": {
    "collapsed": false
   },
   "outputs": [],
   "source": [
    "convergenceTable = do.call('rbind',lapply(c('all_LN','singulars_LN','all_FN','singulars_LN','all_standard','singulars_standard','all_standard','none_standard'), function(dataPrep){\n",
    "    mr = getModelResults(paths[['tablePath']],'linking', dataPrep)\n",
    "    data.frame(dataPrep, numConverged = length(which(!is.na(mr$nu.child_mean))), numTotal = length(mr$nu.child_mean))\n",
    "}))\n",
    "convergenceTable$propFailed = convergenceTable$numConverged / convergenceTable$numTotal\n",
    "print(convergenceTable)"
   ]
  },
  {
   "cell_type": "markdown",
   "metadata": {},
   "source": [
    "# Split Half Plots"
   ]
  },
  {
   "cell_type": "code",
   "execution_count": 3,
   "metadata": {
    "collapsed": false,
    "scrolled": true
   },
   "outputs": [
    {
     "ename": "ERROR",
     "evalue": "Error in list.files(summaryDir): object 'paths' not found\n",
     "output_type": "error",
     "traceback": [
      "Error in list.files(summaryDir): object 'paths' not found\n"
     ]
    },
    {
     "ename": "ERROR",
     "evalue": "Error in print(shp[[\"splitHalfTimeCourse\"]]): object 'shp' not found\n",
     "output_type": "error",
     "traceback": [
      "Error in print(shp[[\"splitHalfTimeCourse\"]]): object 'shp' not found\n"
     ]
    }
   ],
   "source": [
    "shp = makeSplitHalfPlots(paths, 'singulars_LN')\n",
    "print(shp[['splitHalfTimeCourse']])"
   ]
  },
  {
   "cell_type": "code",
   "execution_count": null,
   "metadata": {
    "collapsed": false
   },
   "outputs": [],
   "source": [
    "print(shp[['violinPlot']])"
   ]
  },
  {
   "cell_type": "code",
   "execution_count": null,
   "metadata": {
    "collapsed": false
   },
   "outputs": [],
   "source": [
    "shc = splitHalfComparison(paths)\n",
    "print(shc[['phase1NuComparison']])"
   ]
  },
  {
   "cell_type": "code",
   "execution_count": null,
   "metadata": {
    "collapsed": true
   },
   "outputs": [],
   "source": [
    "print(shc[['phase2NuComparison']])"
   ]
  },
  {
   "cell_type": "code",
   "execution_count": null,
   "metadata": {
    "collapsed": true
   },
   "outputs": [],
   "source": [
    "print(shc[['nuDifference']])"
   ]
  },
  {
   "cell_type": "markdown",
   "metadata": {},
   "source": [
    "# Sliding Window Plots"
   ]
  },
  {
   "cell_type": "code",
   "execution_count": null,
   "metadata": {
    "collapsed": false
   },
   "outputs": [],
   "source": [
    "swp = makeSlidingWindowPlots(paths, 'singulars_LN', shp[['childrenToKeep']])\n",
    "print(swp)"
   ]
  },
  {
   "cell_type": "markdown",
   "metadata": {},
   "source": [
    "# Correlations"
   ]
  },
  {
   "cell_type": "code",
   "execution_count": null,
   "metadata": {
    "collapsed": false
   },
   "outputs": [],
   "source": [
    "source('detlearn_analysis.R')\n",
    "cors = getCorrelations(paths)\n",
    "print(cors)"
   ]
  }
 ],
 "metadata": {
  "kernelspec": {
   "display_name": "R",
   "language": "R",
   "name": "ir"
  },
  "language_info": {
   "codemirror_mode": "r",
   "file_extension": ".r",
   "mimetype": "text/x-r-source",
   "name": "R",
   "pygments_lexer": "r",
   "version": "3.2.1"
  }
 },
 "nbformat": 4,
 "nbformat_minor": 0
}
